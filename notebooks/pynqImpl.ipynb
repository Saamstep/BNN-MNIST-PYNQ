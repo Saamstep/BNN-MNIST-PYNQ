{
 "cells": [
  {
   "cell_type": "markdown",
   "id": "d46cf9db",
   "metadata": {},
   "source": [
    "# BNN Implementation"
   ]
  },
  {
   "cell_type": "markdown",
   "id": "15866378",
   "metadata": {},
   "source": [
    "## Setup"
   ]
  },
  {
   "cell_type": "code",
   "execution_count": null,
   "id": "c1e3cae6",
   "metadata": {},
   "outputs": [],
   "source": [
    "from pynq import Overlay, allocate\n",
    "import numpy as np\n",
    "import struct\n",
    "from time import perf_counter\n",
    "\n",
    "time_tracker = {\n",
    "    'stream_hw': 0,\n",
    "    'burst_hw': 0,\n",
    "    'software': 0,\n",
    "}"
   ]
  },
  {
   "cell_type": "code",
   "execution_count": 44,
   "id": "0f5dcbb6",
   "metadata": {},
   "outputs": [
    {
     "name": "stdout",
     "output_type": "stream",
     "text": [
      "(60000, 28, 28)\n",
      "(60000,)\n",
      "(60000, 784)\n"
     ]
    }
   ],
   "source": [
    "IMG_SIZE = 28\n",
    "IMG_SIZE_SQ = IMG_SIZE**2\n",
    "\n",
    "with open('train-images.idx3-ubyte', 'rb') as f:\n",
    "    magic, num, rows, cols = struct.unpack(\">IIII\", f.read(16))\n",
    "    images = np.frombuffer(f.read(), dtype=np.uint8).reshape(num, rows, cols)\n",
    "\n",
    "with open('train-labels.idx1-ubyte', 'rb') as f:\n",
    "    magic, num = struct.unpack(\">II\", f.read(8))\n",
    "    labels = np.frombuffer(f.read(), dtype=np.uint8)\n",
    "\n",
    "print(images.shape)\n",
    "print(labels.shape)\n",
    "\n",
    "image_data = np.reshape(images, (60000, IMG_SIZE_SQ))\n",
    "# signed = np.where(flattened > 0, 1, -1)\n",
    "# image_data = np.where(signed == 1, 0, 1).astype(np.int32)\n",
    "\n",
    "print(image_data.shape)"
   ]
  },
  {
   "cell_type": "markdown",
   "id": "75731987",
   "metadata": {},
   "source": [
    "## Software Implementation"
   ]
  },
  {
   "cell_type": "code",
   "execution_count": 45,
   "id": "fc6949a7",
   "metadata": {},
   "outputs": [
    {
     "name": "stdout",
     "output_type": "stream",
     "text": [
      "Predicted: 7 | Actual: 7\n",
      "Predicted: 2 | Actual: 2\n",
      "Predicted: 1 | Actual: 1\n",
      "Predicted: 0 | Actual: 0\n",
      "Predicted: 4 | Actual: 4\n",
      "Predicted: 1 | Actual: 1\n",
      "Predicted: 4 | Actual: 4\n",
      "Predicted: 9 | Actual: 9\n",
      "Predicted: 6 | Actual: 5\n",
      "Predicted: 9 | Actual: 9\n",
      "Accuracy: 0.9\n"
     ]
    }
   ],
   "source": [
    "import numpy as np\n",
    "\n",
    "sign = np.vectorize(lambda x: 1 if x>0 else -1)\n",
    "quantize = np.vectorize(lambda x: 0 if x==1 else 1)\n",
    "adj = np.vectorize(lambda x: x*2-255)\n",
    "\n",
    "model = np.load(\"model.npy\", allow_pickle=True).item()\n",
    "\n",
    "w1 = sign(np.array(model['fc1w']))\n",
    "w2 = sign(np.array(model['fc2w']))\n",
    "w3 = sign(np.array(model['fc3w']))\n",
    "\n",
    "w1 = quantize(w1)\n",
    "w2 = quantize(w2)\n",
    "w3 = quantize(w3)\n",
    "\n",
    "def XNOR(a, b):\n",
    "\treturn a == b\n",
    "\n",
    "def matmul_xnor(A, B):\n",
    "\ta, b = B.shape\n",
    "\n",
    "\tres = np.zeros(a)\n",
    "\n",
    "\tA1 = A.astype(int)\n",
    "\tB1 = B.astype(int)\n",
    "\n",
    "\tfor x in range(a):\n",
    "\t\tcnt = 0\n",
    "\t\tfor y in range(b):\n",
    "\t\t\tcnt = cnt + XNOR(A[y], B[x][y])\n",
    "\t\tres[x] = cnt\n",
    "\treturn res\n",
    "\n",
    "def feed_forward(image):\n",
    "\timage = image / 255.0\n",
    "\t# layer 1\n",
    "\tX0_input = quantize(sign(2 * image - 0.5))\n",
    "\tlayer1_output = matmul_xnor(X0_input, w1)\n",
    "\tlayer1_activations = (layer1_output * 2 - 784)\n",
    "    \n",
    "\t# layer 2\n",
    "\tlayer2_input = quantize(sign(layer1_activations))\n",
    "\tlayer2_output = matmul_xnor(layer2_input, w2)\n",
    "\tlayer2_activations = (layer2_output * 2 - 128)\n",
    "\n",
    "\t# layer 3\n",
    "\tlayer3_input = quantize(sign(layer2_activations))\n",
    "\tlayer3_output = matmul_xnor(layer3_input, w3)\n",
    "\n",
    "\tfinal_output = (layer3_output * 2 - 64)\n",
    "\tA = np.array([final_output], np.int32)\n",
    "\n",
    "\treturn np.argmax(final_output)\n",
    "\n",
    "mnist = np.load(\"mnist_test_data.npy\", allow_pickle=True)\n",
    "X = mnist.item().get(\"data\")\n",
    "y = mnist.item().get(\"label\")\n",
    "\n",
    "X = np.reshape(X, (10000, 784))\n",
    "\n",
    "# print(X.shape)\n",
    "# print(y.shape)\n",
    "\n",
    "# print(X[0])\n",
    "\n",
    "N = 10 # Number of images to test\n",
    "correct = 0\n",
    "start_time = perf_counter()\n",
    "for i in range(N):\n",
    "\tprediction = feed_forward(X[i])\n",
    "\tlabel = y[i]\n",
    "\tprint(\"Predicted: \" + str(prediction) + \" | Actual: \" + str(label))\n",
    "\tcorrect += prediction == label\n",
    "\n",
    "print(\"Accuracy: \" + str(correct/N))\n",
    "time_tracker['software'] = perf_counter() - start_time\n"
   ]
  },
  {
   "cell_type": "markdown",
   "id": "7696e049",
   "metadata": {},
   "source": [
    "## Hardware Implementation - Stream"
   ]
  },
  {
   "cell_type": "code",
   "execution_count": null,
   "id": "b930663e",
   "metadata": {},
   "outputs": [
    {
     "data": {
      "application/javascript": "\ntry {\nrequire(['notebook/js/codecell'], function(codecell) {\n  codecell.CodeCell.options_default.highlight_modes[\n      'magic_text/x-csrc'] = {'reg':[/^%%microblaze/]};\n  Jupyter.notebook.events.one('kernel_ready.Kernel', function(){\n      Jupyter.notebook.get_cells().map(function(cell){\n          if (cell.cell_type == 'code'){ cell.auto_highlight(); } }) ;\n  });\n});\n} catch (e) {};\n"
     },
     "metadata": {},
     "output_type": "display_data"
    },
    {
     "data": {
      "application/javascript": "\ntry {\nrequire(['notebook/js/codecell'], function(codecell) {\n  codecell.CodeCell.options_default.highlight_modes[\n      'magic_text/x-csrc'] = {'reg':[/^%%pybind11/]};\n  Jupyter.notebook.events.one('kernel_ready.Kernel', function(){\n      Jupyter.notebook.get_cells().map(function(cell){\n          if (cell.cell_type == 'code'){ cell.auto_highlight(); } }) ;\n  });\n});\n} catch (e) {};\n"
     },
     "metadata": {},
     "output_type": "display_data"
    },
    {
     "name": "stdout",
     "output_type": "stream",
     "text": [
      "Loaded overlay!\n"
     ]
    }
   ],
   "source": [
    "overlay = Overlay('v3.bit')\n",
    "print(\"Loaded overlay!\")\n",
    "bnn_ip = overlay.feedforward_0"
   ]
  },
  {
   "cell_type": "markdown",
   "id": "80f28c71",
   "metadata": {},
   "source": [
    "### Setup DMA Channels & Buffers"
   ]
  },
  {
   "cell_type": "code",
   "execution_count": 3,
   "id": "f6dcfe22",
   "metadata": {},
   "outputs": [],
   "source": [
    "dma = overlay.axi_dma_0\n",
    "dma_in = dma.sendchannel\n",
    "dma_out = dma.recvchannel"
   ]
  },
  {
   "cell_type": "code",
   "execution_count": 4,
   "id": "7d3ae6fb",
   "metadata": {},
   "outputs": [],
   "source": [
    "input_buffer = allocate(shape=(IMG_SIZE_SQ,), dtype=np.int32)\n",
    "output_buffer = allocate(shape=(10,), dtype=np.int32)"
   ]
  },
  {
   "cell_type": "markdown",
   "id": "cae594b6",
   "metadata": {},
   "source": [
    "### Run Model"
   ]
  },
  {
   "cell_type": "code",
   "execution_count": null,
   "id": "a7b80a97",
   "metadata": {},
   "outputs": [
    {
     "name": "stdout",
     "output_type": "stream",
     "text": [
      "[6 6 6 6 6 6 6 6 6 6]\n",
      "The value predicted for this image is: 0 | expected: 5 | failed\n",
      "[6 6 6 6 6 6 6 6 6 6]\n",
      "The value predicted for this image is: 0 | expected: 0 | success\n",
      "[6 6 6 6 6 6 6 6 6 6]\n",
      "The value predicted for this image is: 0 | expected: 4 | failed\n",
      "[6 6 6 6 6 6 6 6 6 6]\n",
      "The value predicted for this image is: 0 | expected: 1 | failed\n",
      "[6 6 6 6 6 6 6 6 6 6]\n",
      "The value predicted for this image is: 0 | expected: 9 | failed\n",
      "[6 6 6 6 6 6 6 6 6 6]\n",
      "The value predicted for this image is: 0 | expected: 2 | failed\n",
      "[6 6 6 6 6 6 6 6 6 6]\n",
      "The value predicted for this image is: 0 | expected: 1 | failed\n",
      "[6 6 6 6 6 6 6 6 6 6]\n",
      "The value predicted for this image is: 0 | expected: 3 | failed\n",
      "[6 6 6 6 6 6 6 6 6 6]\n",
      "The value predicted for this image is: 0 | expected: 1 | failed\n",
      "[6 6 6 6 6 6 6 6 6 6]\n",
      "The value predicted for this image is: 0 | expected: 4 | failed\n"
     ]
    }
   ],
   "source": [
    "start_time = perf_counter()\n",
    "for i in range(10):\n",
    "    actual_label = labels[i]\n",
    "    np.copyto(input_buffer, image_data[i])\n",
    "    \n",
    "    dma_out.transfer(output_buffer)\n",
    "    dma_in.transfer(input_buffer)\n",
    "    \n",
    "    bnn_ip.write(0x00, 0x81)\n",
    "\n",
    "    dma_in.wait()\n",
    "    dma_out.wait()\n",
    "\n",
    "    result = np.array(output_buffer)\n",
    "    print(result)\n",
    "    predicted_label = np.argmax(result)\n",
    "    print(f\"The value predicted for this image is: {predicted_label} | expected: {actual_label} | {'success' if predicted_label == actual_label else 'failed'}\")\n",
    "time_tracker['stream_hw'] = perf_counter() - start_time\n",
    "\n",
    "print(f\"Time taken for 10 images: {end_time - start_time:.2f} seconds\")"
   ]
  },
  {
   "cell_type": "markdown",
   "id": "07d5a016",
   "metadata": {},
   "source": [
    "## Hardware Implementation - Burst"
   ]
  },
  {
   "cell_type": "code",
   "execution_count": null,
   "id": "a46fc7de",
   "metadata": {},
   "outputs": [],
   "source": [
    "overlay = Overlay('v3.bit') # Change the name of the bitstream file as needed\n",
    "print(\"Loaded overlay!\")\n",
    "bnn_ip = overlay.feedforward_burst_0 # Change the name of the IP as needed\n",
    "\n",
    "np.copyto(input_buffer, image_data[0])"
   ]
  },
  {
   "cell_type": "markdown",
   "id": "dfdbeebd",
   "metadata": {},
   "source": [
    "### Setup Buffers"
   ]
  },
  {
   "cell_type": "code",
   "execution_count": null,
   "id": "1c8e5b39",
   "metadata": {},
   "outputs": [],
   "source": [
    "input_buffer = allocate(shape=(IMG_SIZE_SQ,), dtype=np.int32)\n",
    "output_buffer = allocate(shape=(10,), dtype=np.int32)"
   ]
  },
  {
   "cell_type": "markdown",
   "id": "cf9ac5bc",
   "metadata": {},
   "source": [
    "### Run Model"
   ]
  },
  {
   "cell_type": "code",
   "execution_count": null,
   "id": "d2b59838",
   "metadata": {},
   "outputs": [],
   "source": [
    "start_time = perf_counter()\n",
    "\n",
    "# The addresses are probably wrong\n",
    "bnn_ip.write(0x10, input_buffer.physical_address)\n",
    "bnn_ip.write(0x1C, output_buffer.physical_address)\n",
    "\n",
    "# Start the kernel\n",
    "bnn_ip.write(0x00, 0x01)\n",
    "\n",
    "# Wait for completion\n",
    "while (bnn_ip.read(0x00) & 0x2) == 0:\n",
    "    pass\n",
    "\n",
    "# Invalidate result buffer to get fresh values\n",
    "output_buffer.invalidate()\n",
    "\n",
    "time_tracker['burst_hw'] = perf_counter() - start_time\n",
    "\n",
    "print(\"Predicted Value\")\n",
    "print(output_buffer)\n",
    "print(\"Expected Value\")\n",
    "print(y)"
   ]
  },
  {
   "cell_type": "markdown",
   "id": "3f00936e",
   "metadata": {},
   "source": [
    "## Performanace Tracker Output"
   ]
  },
  {
   "cell_type": "code",
   "execution_count": 46,
   "id": "008d315f",
   "metadata": {},
   "outputs": [
    {
     "name": "stdout",
     "output_type": "stream",
     "text": [
      "{'stream_hw': 0, 'burst_hw': 0, 'software': 0.33010550000471994}\n"
     ]
    }
   ],
   "source": [
    "print(time_tracker)"
   ]
  }
 ],
 "metadata": {
  "kernelspec": {
   "display_name": "Python 3",
   "language": "python",
   "name": "python3"
  },
  "language_info": {
   "codemirror_mode": {
    "name": "ipython",
    "version": 3
   },
   "file_extension": ".py",
   "mimetype": "text/x-python",
   "name": "python",
   "nbconvert_exporter": "python",
   "pygments_lexer": "ipython3",
   "version": "3.12.5"
  }
 },
 "nbformat": 4,
 "nbformat_minor": 5
}
