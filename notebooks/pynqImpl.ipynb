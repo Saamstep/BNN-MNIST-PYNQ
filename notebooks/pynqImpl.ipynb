{
 "cells": [
  {
   "cell_type": "code",
   "execution_count": 1,
   "id": "b930663e",
   "metadata": {},
   "outputs": [
    {
     "data": {
      "application/javascript": [
       "\n",
       "try {\n",
       "require(['notebook/js/codecell'], function(codecell) {\n",
       "  codecell.CodeCell.options_default.highlight_modes[\n",
       "      'magic_text/x-csrc'] = {'reg':[/^%%microblaze/]};\n",
       "  Jupyter.notebook.events.one('kernel_ready.Kernel', function(){\n",
       "      Jupyter.notebook.get_cells().map(function(cell){\n",
       "          if (cell.cell_type == 'code'){ cell.auto_highlight(); } }) ;\n",
       "  });\n",
       "});\n",
       "} catch (e) {};\n"
      ]
     },
     "metadata": {},
     "output_type": "display_data"
    },
    {
     "data": {
      "application/javascript": [
       "\n",
       "try {\n",
       "require(['notebook/js/codecell'], function(codecell) {\n",
       "  codecell.CodeCell.options_default.highlight_modes[\n",
       "      'magic_text/x-csrc'] = {'reg':[/^%%pybind11/]};\n",
       "  Jupyter.notebook.events.one('kernel_ready.Kernel', function(){\n",
       "      Jupyter.notebook.get_cells().map(function(cell){\n",
       "          if (cell.cell_type == 'code'){ cell.auto_highlight(); } }) ;\n",
       "  });\n",
       "});\n",
       "} catch (e) {};\n"
      ]
     },
     "metadata": {},
     "output_type": "display_data"
    },
    {
     "name": "stdout",
     "output_type": "stream",
     "text": [
      "Loaded overlay!\n"
     ]
    }
   ],
   "source": [
    "from pynq import Overlay, allocate\n",
    "import numpy as np\n",
    "import struct\n",
    "\n",
    "overlay = Overlay('v3.bit')\n",
    "print(\"Loaded overlay!\")\n",
    "bnn_ip = overlay.feedforward_0"
   ]
  },
  {
   "cell_type": "code",
   "execution_count": 2,
   "id": "0f5dcbb6",
   "metadata": {},
   "outputs": [
    {
     "name": "stdout",
     "output_type": "stream",
     "text": [
      "(60000, 28, 28)\n",
      "(60000,)\n",
      "(60000, 784)\n"
     ]
    }
   ],
   "source": [
    "IMG_SIZE = 28\n",
    "IMG_SIZE_SQ = IMG_SIZE**2\n",
    "\n",
    "with open('train-images.idx3-ubyte', 'rb') as f:\n",
    "    magic, num, rows, cols = struct.unpack(\">IIII\", f.read(16))\n",
    "    images = np.frombuffer(f.read(), dtype=np.uint8).reshape(num, rows, cols)\n",
    "\n",
    "with open('train-labels.idx1-ubyte', 'rb') as f:\n",
    "    magic, num = struct.unpack(\">II\", f.read(8))\n",
    "    labels = np.frombuffer(f.read(), dtype=np.uint8)\n",
    "\n",
    "print(images.shape)\n",
    "print(labels.shape)\n",
    "\n",
    "image_data = np.reshape(images, (60000, IMG_SIZE_SQ))\n",
    "# signed = np.where(flattened > 0, 1, -1)\n",
    "# image_data = np.where(signed == 1, 0, 1).astype(np.int32)\n",
    "\n",
    "print(image_data.shape)"
   ]
  },
  {
   "cell_type": "code",
   "execution_count": 3,
   "id": "f6dcfe22",
   "metadata": {},
   "outputs": [],
   "source": [
    "dma = overlay.axi_dma_0\n",
    "dma_in = dma.sendchannel\n",
    "dma_out = dma.recvchannel"
   ]
  },
  {
   "cell_type": "code",
   "execution_count": 4,
   "id": "7d3ae6fb",
   "metadata": {},
   "outputs": [],
   "source": [
    "input_buffer = allocate(shape=(IMG_SIZE_SQ,), dtype=np.int32)\n",
    "output_buffer = allocate(shape=(10,), dtype=np.int32)"
   ]
  },
  {
   "cell_type": "code",
   "execution_count": 5,
   "id": "a7b80a97",
   "metadata": {},
   "outputs": [
    {
     "name": "stdout",
     "output_type": "stream",
     "text": [
      "[6 6 6 6 6 6 6 6 6 6]\n",
      "The value predicted for this image is: 0 | expected: 5 | failed\n",
      "[6 6 6 6 6 6 6 6 6 6]\n",
      "The value predicted for this image is: 0 | expected: 0 | success\n",
      "[6 6 6 6 6 6 6 6 6 6]\n",
      "The value predicted for this image is: 0 | expected: 4 | failed\n",
      "[6 6 6 6 6 6 6 6 6 6]\n",
      "The value predicted for this image is: 0 | expected: 1 | failed\n",
      "[6 6 6 6 6 6 6 6 6 6]\n",
      "The value predicted for this image is: 0 | expected: 9 | failed\n",
      "[6 6 6 6 6 6 6 6 6 6]\n",
      "The value predicted for this image is: 0 | expected: 2 | failed\n",
      "[6 6 6 6 6 6 6 6 6 6]\n",
      "The value predicted for this image is: 0 | expected: 1 | failed\n",
      "[6 6 6 6 6 6 6 6 6 6]\n",
      "The value predicted for this image is: 0 | expected: 3 | failed\n",
      "[6 6 6 6 6 6 6 6 6 6]\n",
      "The value predicted for this image is: 0 | expected: 1 | failed\n",
      "[6 6 6 6 6 6 6 6 6 6]\n",
      "The value predicted for this image is: 0 | expected: 4 | failed\n"
     ]
    }
   ],
   "source": [
    "for i in range(10):\n",
    "    actual_label = labels[i]\n",
    "    np.copyto(input_buffer, image_data[i])\n",
    "    \n",
    "    dma_out.transfer(output_buffer)\n",
    "    dma_in.transfer(input_buffer)\n",
    "    \n",
    "    bnn_ip.write(0x00, 0x81)\n",
    "\n",
    "    dma_in.wait()\n",
    "    dma_out.wait()\n",
    "\n",
    "    result = np.array(output_buffer)\n",
    "    print(result)\n",
    "    predicted_label = np.argmax(result)\n",
    "    print(f\"The value predicted for this image is: {predicted_label} | expected: {actual_label} | {'success' if predicted_label == actual_label else 'failed'}\")"
   ]
  },
  {
   "cell_type": "code",
   "execution_count": null,
   "id": "fbb91b9b",
   "metadata": {},
   "outputs": [],
   "source": []
  }
 ],
 "metadata": {
  "kernelspec": {
   "display_name": "Python 3 (ipykernel)",
   "language": "python",
   "name": "python3"
  },
  "language_info": {
   "codemirror_mode": {
    "name": "ipython",
    "version": 3
   },
   "file_extension": ".py",
   "mimetype": "text/x-python",
   "name": "python",
   "nbconvert_exporter": "python",
   "pygments_lexer": "ipython3",
   "version": "3.10.4"
  }
 },
 "nbformat": 4,
 "nbformat_minor": 5
}
