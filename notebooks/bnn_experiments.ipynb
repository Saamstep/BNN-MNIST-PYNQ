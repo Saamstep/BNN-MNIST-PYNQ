{
 "cells": [
  {
   "cell_type": "markdown",
   "metadata": {},
   "source": [
    "# BNN for MNIST Data Set\n",
    "\n",
    "By Samuel Stephen and Clayton Wiley\n",
    "\n",
    "## Data Pre-Processing"
   ]
  },
  {
   "cell_type": "code",
   "execution_count": null,
   "metadata": {},
   "outputs": [],
   "source": [
    "import numpy as np\n",
    "import struct\n",
    "\n",
    "with open('train-images-idx3-ubyte', 'rb') as f:\n",
    "    magic, num, rows, cols = struct.unpack(\">IIII\", f.read(16))\n",
    "    images = np.frombuffer(f.read(), dtype=np.uint8).reshape(num, rows, cols)\n",
    "\n",
    "with open('train-labels-idx1-ubyte', 'rb') as f:\n",
    "    magic, num = struct.unpack(\">II\", f.read(8))\n",
    "    labels = np.frombuffer(f.read(), dtype=np.uint8)\n",
    "\n",
    "print(images.shape)\n",
    "print(labels.shape)\n"
   ]
  }
 ],
 "metadata": {
  "language_info": {
   "name": "python"
  }
 },
 "nbformat": 4,
 "nbformat_minor": 2
}
